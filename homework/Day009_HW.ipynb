{
 "cells": [
  {
   "cell_type": "code",
   "execution_count": 1,
   "metadata": {},
   "outputs": [
    {
     "name": "stdout",
     "output_type": "stream",
     "text": [
      "Save image fl_image/Cgb5oo1.jpeg\n",
      "Save image fl_image/MgjHY4f.jpeg\n",
      "Save image fl_image/yeoRtAs.jpeg\n",
      "Save image fl_image/wsauNEW.jpeg\n",
      "Save image fl_image/IjiETcs.jpeg\n"
     ]
    }
   ],
   "source": [
    "import requests,os\n",
    "from bs4 import BeautifulSoup\n",
    "from PIL import Image\n",
    "\n",
    "url = \"https://www.ptt.cc/bbs/Beauty/M.1556291059.A.75A.html\"\n",
    "\n",
    "#有些網頁會詢問「是否滿 18 歲」，這邊可以用 cookies 繞過\n",
    "#requests.get(URL, cookies={'over18': '1'})\n",
    "file = requests.get(url,cookies = {\"over18\":\"1\"})\n",
    "#print(\"網頁下載中\")\n",
    "#file.raise_for_status()\n",
    "#print(\"網頁下載完成\")\n",
    "\n",
    "objSoup = BeautifulSoup(file.text,\"lxml\")\n",
    "\n",
    "#如果匯入只有import bs4要用下面的方式建立BeautifulSoup物件\n",
    "#soup = bs4.BeautifulSoup(file.text,\"lxml\") \n",
    "\n",
    "destDir = \"fl_image\" #設定要儲存圖片的資料夾\n",
    "if os.path.exists(destDir) == False:\n",
    "    os.mkdir(destDir) #建立資料夾提供未來儲存圖片\n",
    "    \n",
    "#imgTag = objSoup.find_all(\"img\") #收尋所有圖片檔案\n",
    "#findChildren 和 find_all一樣是全部的值和select一樣，是一個列表\n",
    "#recursive迭代，系統設定為true，這邊設定為false主要是一次只抓一筆資料\n",
    "image_tags = objSoup.find(id=\"main-content\").findChildren(\"a\",recursive = False)\n",
    "#print(\"完成抓所有<a>的資料\")\n",
    "for img_tag in image_tags:\n",
    "   # print(\"1:\",img_tag)\n",
    "    img_id = img_tag['href'].split('/')[-1]\n",
    "   # print(\"2\",img_id)\n",
    "    # 組合圖片而非網站的網址\n",
    "    img_url = 'https://i.imgur.com/{}.jpg'.format(img_id)\n",
    "    #print(\"3\",img_url)\n",
    "    #print(\"\\n\")\n",
    "    with requests.get(img_url, stream=True) as r:\n",
    "        r.raise_for_status()\n",
    "        # 檢查圖片副檔名\n",
    "        img = Image.open(r.raw)\n",
    "        img_savename = '{outdir}/{img_id}.{img_ext}'.format(\n",
    "            outdir = destDir, img_id=img_id, img_ext=img.format.lower())\n",
    "        img.save(img_savename)\n",
    "        print('Save image {}'.format(img_savename))"
   ]
  }
 ],
 "metadata": {
  "kernelspec": {
   "display_name": "Python 3",
   "language": "python",
   "name": "python3"
  },
  "language_info": {
   "codemirror_mode": {
    "name": "ipython",
    "version": 3
   },
   "file_extension": ".py",
   "mimetype": "text/x-python",
   "name": "python",
   "nbconvert_exporter": "python",
   "pygments_lexer": "ipython3",
   "version": "3.7.6"
  }
 },
 "nbformat": 4,
 "nbformat_minor": 4
}
