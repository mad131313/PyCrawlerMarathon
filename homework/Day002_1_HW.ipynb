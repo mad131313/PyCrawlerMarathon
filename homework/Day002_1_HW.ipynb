{
 "cells": [
  {
   "cell_type": "code",
   "execution_count": null,
   "metadata": {},
   "outputs": [],
   "source": [
    "#CSV Reader\n",
    "import csv\n",
    "file = \"Day2example.csv\"\n",
    "with open(file,encoding = \"utf8\") as csvfile:\n",
    "    csvRead = csv.reader(csvfile)\n",
    "    lsDay2 = list(csvRead)\n",
    "   \n",
    "#取出班次一的每一個時間\n",
    "for row in range(1,len(lsDay2)):\n",
    "    print(lsDay2[row][5])"
   ]
  },
  {
   "cell_type": "code",
   "execution_count": null,
   "metadata": {},
   "outputs": [],
   "source": [
    "ls_ = []\n",
    "for row1 in range(len(lsDay2)):    \n",
    "    ls_.append(lsDay2[row1][5])\n",
    "print(ls_)"
   ]
  },
  {
   "cell_type": "code",
   "execution_count": null,
   "metadata": {},
   "outputs": [],
   "source": [
    "#將班次一到五與其所有時間用一種資料型態個別保存\n",
    "b1,b2,b3,b4,b5 = [], [], [], [], []\n",
    "\n",
    "for row1 in range(len(lsDay2)):   \n",
    "    b1.append(lsDay2[row1][5])\n",
    "    b2.append(lsDay2[row1][6])\n",
    "    b3.append(lsDay2[row1][7])\n",
    "    b4.append(lsDay2[row1][8])\n",
    "    b5.append(lsDay2[row1][9])\n",
    "\n",
    "bus = {}\n",
    "bus[b1[0]] = b1[1:]\n",
    "bus[b2[0]] = b2[1:]\n",
    "bus[b3[0]] = b3[1:]\n",
    "bus[b4[0]] = b4[1:]\n",
    "bus[b5[0]] = b5[1:]\n",
    "\n",
    "bus"
   ]
  }
 ],
 "metadata": {
  "kernelspec": {
   "display_name": "Python 3",
   "language": "python",
   "name": "python3"
  },
  "language_info": {
   "codemirror_mode": {
    "name": "ipython",
    "version": 3
   },
   "file_extension": ".py",
   "mimetype": "text/x-python",
   "name": "python",
   "nbconvert_exporter": "python",
   "pygments_lexer": "ipython3",
   "version": "3.7.6"
  }
 },
 "nbformat": 4,
 "nbformat_minor": 4
}
