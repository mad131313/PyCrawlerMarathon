{
 "cells": [
  {
   "cell_type": "code",
   "execution_count": 3,
   "metadata": {
    "scrolled": true
   },
   "outputs": [
    {
     "name": "stdout",
     "output_type": "stream",
     "text": [
      "-----dcard之各種型態-----\n",
      "Request取出之dcard資料型態 : <class 'requests.models.Response'>\n",
      "文字屬性之dcard資料型態 : <class 'str'>\n",
      "BeautifulSoup之dcard資料型態 : <class 'bs4.BeautifulSoup'>\n"
     ]
    }
   ],
   "source": [
    "#import json\n",
    "import requests\n",
    "import bs4\n",
    "#from bs4 import BeautifulSoup\n",
    "###################################################################\n",
    "file_dcard = requests.get(\"https://www.dcard.tw/f\") #Dcared\n",
    "file_zhihu = requests.get(\" https://www.zhihu.com/explore\") #知乎\n",
    "###################################################################\n",
    "\n",
    "#網頁抓出來的資料若是有中文需要解碼\n",
    "file_dcard.encoding = \"utf-8\" \n",
    "file_zhihu.encoding = \"utf-8\"\n",
    "\n",
    "#dcard##################################################################\n",
    "print(\"-----dcard之各種型態-----\")\n",
    "print(\"Request取出之dcard資料型態 :\",type(file_dcard))\n",
    "#取出資料之文字屬性file_dcard.text\n",
    "data = file_dcard.text\n",
    "#文字屬性之資料型態\n",
    "print(\"文字屬性之dcard資料型態 :\",type(data))\n",
    "#BeautifulSoup之資料型態\n",
    "data_bs4 = bs4.BeautifulSoup(data,\"html5lib\")\n",
    "data_bs4_1 = bs4.BeautifulSoup(data,\"lxml\")\n",
    "print(\"BeautifulSoup之dcard資料型態 :\",type(data_bs4))\n",
    "#print(\"-----------------------------------------------------\")"
   ]
  },
  {
   "cell_type": "code",
   "execution_count": 4,
   "metadata": {},
   "outputs": [
    {
     "name": "stdout",
     "output_type": "stream",
     "text": [
      "-----知乎之各種型態-----\n",
      "Request取出之知乎資料型態 : <class 'requests.models.Response'>\n",
      "文字屬性之知乎資料型態 : <class 'str'>\n",
      "BeautifulSoup之知乎資料型態 : <class 'bs4.BeautifulSoup'>\n"
     ]
    }
   ],
   "source": [
    "#知乎##################################################################\n",
    "print(\"-----知乎之各種型態-----\")\n",
    "print(\"Request取出之知乎資料型態 :\",type(file_zhihu))\n",
    "data1 = file_zhihu.text\n",
    "print(\"文字屬性之知乎資料型態 :\",type(data1))\n",
    "data1_bs4 = bs4.BeautifulSoup(data1,\"html5lib\")\n",
    "data1_bs4_1 = bs4.BeautifulSoup(data1,\"lxml\")\n",
    "#print(data1_bs4)\n",
    "#print(data1_bs4_1)\n",
    "print(\"BeautifulSoup之知乎資料型態 :\",type(data1_bs4))"
   ]
  }
 ],
 "metadata": {
  "kernelspec": {
   "display_name": "Python 3",
   "language": "python",
   "name": "python3"
  },
  "language_info": {
   "codemirror_mode": {
    "name": "ipython",
    "version": 3
   },
   "file_extension": ".py",
   "mimetype": "text/x-python",
   "name": "python",
   "nbconvert_exporter": "python",
   "pygments_lexer": "ipython3",
   "version": "3.7.6"
  }
 },
 "nbformat": 4,
 "nbformat_minor": 4
}
