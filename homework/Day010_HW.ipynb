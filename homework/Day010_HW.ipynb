{
 "cells": [
  {
   "cell_type": "code",
   "execution_count": 4,
   "metadata": {},
   "outputs": [
    {
     "name": "stdout",
     "output_type": "stream",
     "text": [
      "<class 'bs4.element.Tag'> [正妹] 新垣結衣幾張 發錢 - 看板 Beauty - 批踢踢實業坊\n"
     ]
    }
   ],
   "source": [
    "import requests,os\n",
    "from bs4 import BeautifulSoup\n",
    "url = 'https://www.ptt.cc/bbs/Beauty/M.1556291059.A.75A.html'\n",
    "resp = requests.get(url, cookies={'over18': '1'})\n",
    "soup = BeautifulSoup(resp.text,\"lxml\")\n",
    "print(type(soup.title),soup.title.text)"
   ]
  },
  {
   "cell_type": "code",
   "execution_count": 5,
   "metadata": {},
   "outputs": [
    {
     "name": "stdout",
     "output_type": "stream",
     "text": [
      "<class 'pyquery.pyquery.PyQuery'> [正妹] 新垣結衣幾張 發錢 - 看板 Beauty - 批踢踢實業坊\n"
     ]
    }
   ],
   "source": [
    "from grab import Grab\n",
    "from pyquery import PyQuery as pq\n",
    "url = 'https://www.ptt.cc/bbs/Beauty/M.1556291059.A.75A.html'\n",
    "g = Grab()\n",
    "resp = g.go(url,cookies={'over18': '1'})\n",
    "doc = pq(resp.body)\n",
    "title = doc('title')\n",
    "print(type(title), title.text())"
   ]
  },
  {
   "cell_type": "code",
   "execution_count": null,
   "metadata": {},
   "outputs": [],
   "source": []
  }
 ],
 "metadata": {
  "kernelspec": {
   "display_name": "Python 3",
   "language": "python",
   "name": "python3"
  },
  "language_info": {
   "codemirror_mode": {
    "name": "ipython",
    "version": 3
   },
   "file_extension": ".py",
   "mimetype": "text/x-python",
   "name": "python",
   "nbconvert_exporter": "python",
   "pygments_lexer": "ipython3",
   "version": "3.7.6"
  }
 },
 "nbformat": 4,
 "nbformat_minor": 4
}
