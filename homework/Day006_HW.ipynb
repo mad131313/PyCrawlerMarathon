{
 "cells": [
  {
   "cell_type": "code",
   "execution_count": 2,
   "metadata": {},
   "outputs": [
    {
     "name": "stdout",
     "output_type": "stream",
     "text": [
      "知乎問題發問時間 : [1554085028, 1557824412, 1585227854, 1493693113, 1572318426]\n",
      "第一筆回答的時間 : 1558451618\n",
      "最後一筆回答的時間 : 1587220473\n"
     ]
    }
   ],
   "source": [
    "#1. 取出知乎問題發問時間\n",
    "# 2. 取出第一筆與最後一筆回答的時間\n",
    "import requests,json\n",
    "# 定義標頭檔內容\n",
    "headers = {'user-agent': 'Mozilla/5.0'}\n",
    "r = requests.get('https://www.zhihu.com/api/v4/questions/55493026/answers',headers=headers)\n",
    "response = r.text\n",
    "\n",
    "data = json.loads(response) # 利利⽤用 json 解析網⾴頁內容\n",
    "# 取出資料\n",
    "time = [] #發問題時間\n",
    "time_res = [] #回答時間\n",
    "for d in data['data']:#['question']['updated_time']\n",
    "    time.append(d['created_time'])\n",
    "    time_res.append(d['updated_time'])\n",
    "    \n",
    "first_time = time_res[0]\n",
    "last_time = time_res[4]\n",
    "\n",
    "print(\"知乎問題發問時間 :\",time)\n",
    "print(\"第一筆回答的時間 :\",first_time)\n",
    "print(\"最後一筆回答的時間 :\",last_time)"
   ]
  },
  {
   "cell_type": "code",
   "execution_count": null,
   "metadata": {},
   "outputs": [],
   "source": []
  }
 ],
 "metadata": {
  "kernelspec": {
   "display_name": "Python 3",
   "language": "python",
   "name": "python3"
  },
  "language_info": {
   "codemirror_mode": {
    "name": "ipython",
    "version": 3
   },
   "file_extension": ".py",
   "mimetype": "text/x-python",
   "name": "python",
   "nbconvert_exporter": "python",
   "pygments_lexer": "ipython3",
   "version": "3.7.6"
  }
 },
 "nbformat": 4,
 "nbformat_minor": 4
}
