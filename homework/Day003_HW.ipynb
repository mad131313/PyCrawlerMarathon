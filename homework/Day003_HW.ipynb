{
 "cells": [
  {
   "cell_type": "code",
   "execution_count": null,
   "metadata": {},
   "outputs": [],
   "source": [
    "#1.檔案中的「File I/O」與「xmltodict」讀出來的內容有什麼差異\n",
    "###File I/O 與 xmltodict差異性在File只將XML格式原封不動的印出，xmltodict將xml格式轉為dict"
   ]
  },
  {
   "cell_type": "code",
   "execution_count": null,
   "metadata": {},
   "outputs": [],
   "source": [
    "#請問高雄市有多少地區有溫度資料\n",
    "with open(r\"D:\\Web Crawler\\HomeWork\\Day003\\D3examle\\64_72hr_CH.xml\",encoding=\"utf8\") as fd:\n",
    "    doc = dict(xmltodict.parse(fd.read()))\n",
    "datakaohsiung = doc['cwbopendata']['dataset']['locations']['location']\n",
    "print(len(datakaohsiung))"
   ]
  },
  {
   "cell_type": "code",
   "execution_count": null,
   "metadata": {},
   "outputs": [],
   "source": [
    "#2.請取出每一個地區所記錄的第一個時間點跟溫度\n",
    "for loc in datakaohsiung:\n",
    "      \n",
    "    #print(loc[\"locationName\"])\n",
    "    #print(loc[\"weatherElement\"][0][\"time\"][0][\"dataTime\"])\n",
    "    #print(loc[\"weatherElement\"][0][\"time\"][0][\"elementValue\"])\n",
    "    print(loc[\"locationName\"],loc[\"weatherElement\"][0][\"time\"][0][\"dataTime\"],loc[\"weatherElement\"][0][\"time\"][0][\"elementValue\"])"
   ]
  },
  {
   "cell_type": "code",
   "execution_count": null,
   "metadata": {},
   "outputs": [],
   "source": [
    "#3.請取出第一個地區所記錄的每一個時間點跟溫度\n",
    "location = datakaohsiung[0]\n",
    "for row in location[\"weatherElement\"][0][\"time\"]:\n",
    "    print(\"時間點:\",row[\"dataTime\"],\"\\t\",\"溫度:\",row[\"elementValue\"][\"value\"])"
   ]
  }
 ],
 "metadata": {
  "kernelspec": {
   "display_name": "Python 3",
   "language": "python",
   "name": "python3"
  },
  "language_info": {
   "codemirror_mode": {
    "name": "ipython",
    "version": 3
   },
   "file_extension": ".py",
   "mimetype": "text/x-python",
   "name": "python",
   "nbconvert_exporter": "python",
   "pygments_lexer": "ipython3",
   "version": "3.7.6"
  }
 },
 "nbformat": 4,
 "nbformat_minor": 4
}
