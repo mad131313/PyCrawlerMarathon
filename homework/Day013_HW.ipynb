{
 "cells": [
  {
   "cell_type": "code",
   "execution_count": 2,
   "metadata": {},
   "outputs": [],
   "source": [
    "import requests\n",
    "from bs4 import BeautifulSoup\n",
    "\n",
    "url = \"https://www.ptt.cc/bbs/NBA/index.html\"\n",
    "r = requests.get(url)\n",
    "\n",
    "soup = BeautifulSoup(r.text,\"html5lib\")"
   ]
  },
  {
   "cell_type": "code",
   "execution_count": 3,
   "metadata": {
    "scrolled": true
   },
   "outputs": [
    {
     "name": "stdout",
     "output_type": "stream",
     "text": [
      "標題：  [情報] 快艇計劃和Joakim Noah簽新約\n",
      "作者：  Bainite\n",
      "時間：   6/20\n",
      "標題：  [討論] 七年前的今天，熱火完成二連霸\n",
      "作者：  delete70923\n",
      "時間：   6/21\n",
      "標題：  [花邊] 歐肥談到當年魔術續約時的心情轉變\n",
      "作者：  greprep\n",
      "時間：   6/21\n",
      "標題：  Re: [花邊] NBA》想約凡妮莎先問過我拳頭！科比硬漢\n",
      "作者：  pneumo\n",
      "時間：   6/21\n",
      "標題：  Re: [情報] 球員同盟聲明:我們已經受夠天賦被人利用\n",
      "作者：  avig800\n",
      "時間：   6/21\n",
      "標題：  Re: [花邊] 歐肥談到當年魔術續約時的心情轉變\n",
      "作者：  SeungYeon\n",
      "時間：   6/21\n",
      "標題：  [情報] Butler被小孩叫「尼Ｘ」:他的父親教他仇恨\n",
      "作者：  ckny\n",
      "時間：   6/21\n",
      "標題：  [花邊] Mitchell、Trae Young的訓練照\n",
      "作者：  ckny\n",
      "時間：   6/21\n",
      "標題：  [新聞] 因禍得福？柯爾：下季將看到最佳版本的\n",
      "作者：  asdf1256\n",
      "時間：   6/21\n",
      "標題：  [公告] 板規v6.8\n",
      "作者：  Vedan\n",
      "時間：   5/24\n",
      "標題：  [公告] 版主上任相關事項 \n",
      "作者：  qazwsx879345\n",
      "時間：  10/25\n",
      "標題：  [情報] SEASON Schedule 賽程 March 19–20\n",
      "作者：  Acetoxy\n",
      "時間：   3/02\n",
      "標題：  [公告] 第一次被退文，可在三天後刪除退文\n",
      "作者：  Vedan\n",
      "時間：   3/09\n",
      "標題：  [公告] 板務說明 (發錢)\n",
      "作者：  Vedan\n",
      "時間：   4/03\n"
     ]
    }
   ],
   "source": [
    "#方法一\n",
    "for d in soup.find_all(class_=\"r-ent\"):\n",
    "    print('標題： ', d.find(class_='title').text.replace('\\t', '').replace('\\n', ''))\n",
    "    print('作者： ', d.find(class_='author').text.replace('\\t', '').replace('\\n', ''))\n",
    "    print('時間： ', d.find(class_='date').text.replace('\\t', '').replace('\\n', ''))"
   ]
  },
  {
   "cell_type": "code",
   "execution_count": 4,
   "metadata": {},
   "outputs": [
    {
     "name": "stdout",
     "output_type": "stream",
     "text": [
      "標題:  [情報] 快艇計劃和Joakim Noah簽新約\n",
      "作者: [情報] Joakim Noah和快艇簽新約\n",
      "時間: Sat Jun 20 23:17:55 2020\n",
      "標題:  [討論] 七年前的今天，熱火完成二連霸\n",
      "作者: [討論] 七年前的今天，熱火完成二連霸\n",
      "時間: Sun Jun 21 08:30:03 2020\n",
      "標題:  [花邊] 歐肥談到當年魔術續約時的心情轉變\n",
      "作者: [花邊] 歐肥談到當年魔術續約時的心情轉變\n",
      "時間: Sun Jun 21 10:27:28 2020\n",
      "標題:  Re: [花邊] NBA》想約凡妮莎先問過我拳頭！科比硬漢\n",
      "作者: Re: [花邊] NBA》想約凡妮莎先問過我拳頭！科比硬漢\n",
      "時間: Sun Jun 21 11:18:49 2020\n",
      "標題:  Re: [情報] 球員同盟聲明:我們已經受夠天賦被人利用\n",
      "作者: Re: [情報] 球員同盟聲明:我們已經受夠天賦被人利用\n",
      "時間: Sun Jun 21 12:05:46 2020\n",
      "標題:  Re: [花邊] 歐肥談到當年魔術續約時的心情轉變\n",
      "作者: Re: [花邊] 歐肥談到當年魔術續約時的心情轉變\n",
      "時間: Sun Jun 21 12:25:59 2020\n",
      "標題:  [情報] Butler被小孩叫「尼Ｘ」:他的父親教他仇恨\n",
      "作者: [情報] Butler被小孩叫「尼Ｘ」:他的父親教他仇恨\n",
      "時間: Sun Jun 21 13:10:18 2020\n",
      "標題:  [花邊] Mitchell、Trae Young的訓練照\n",
      "作者: [花邊] Mitchell、Trae Young的訓練照\n",
      "時間: Sun Jun 21 14:24:26 2020\n",
      "標題:  [新聞] 因禍得福？柯爾：下季將看到最佳版本的\n",
      "作者: [新聞] 因禍得福？柯爾：下季將看到最佳版本的\n",
      "時間: Sun Jun 21 18:04:49 2020\n",
      "標題:  [公告] 板規v6.8\n",
      "標題:  [公告] 版主上任相關事項 \n",
      "作者: [公告] 版主上任相關事項\n",
      "時間: Fri Oct 25 10:44:03 2019\n",
      "標題:  [情報] SEASON Schedule 賽程 March 19–20\n",
      "作者: [情報] SEASON Schedule 賽程 March 19–20\n",
      "時間: Mon Mar  2 01:19:40 2020\n",
      "標題:  [公告] 第一次被退文，可在三天後刪除退文\n",
      "作者: [公告] 第一次被退文，可在三天後刪除退文\n",
      "時間: Mon Mar  9 11:44:26 2020\n",
      "標題:  [公告] 板務說明 (發錢)\n",
      "作者: [公告] 板務說明\n",
      "時間: Fri Apr  3 01:28:00 2020\n"
     ]
    }
   ],
   "source": [
    "#方法二\n",
    "for d1 in soup.find_all(class_=\"title\"):\n",
    "    try:\n",
    "        print(\"標題: \", d1.text.replace('\\t', '').replace('\\n', ''))\n",
    "        r1 = BeautifulSoup(requests.get(\"https://www.ptt.cc\"+d1.find(\"a\")[\"href\"]).text,\"html5lib\")\n",
    "        print(\"作者: \" + r1.find_all(class_=\"article-meta-value\")[2].text)#內層資料\n",
    "        print(\"時間: \" + r1.find_all(class_=\"article-meta-value\")[3].text)\n",
    "    except:\n",
    "        continue"
   ]
  },
  {
   "cell_type": "code",
   "execution_count": 9,
   "metadata": {},
   "outputs": [
    {
     "data": {
      "text/plain": [
       "{'標題': '[新聞] 北京輸弱旅名記批林書豪「不及格外援」',\n",
       " '作者': 'asdfgh0920 (A醬)',\n",
       " '時間': 'Tue Jun 23 22:13:19 2020'}"
      ]
     },
     "execution_count": 9,
     "metadata": {},
     "output_type": "execute_result"
    }
   ],
   "source": [
    "import requests\n",
    "from bs4 import BeautifulSoup\n",
    "\n",
    "url = \"https://www.ptt.cc/bbs/NBA/index.html\"\n",
    "r = requests.get(url)\n",
    "\n",
    "soup = BeautifulSoup(r.text,\"html5lib\")\n",
    "\n",
    "posts = []\n",
    "\n",
    "for d2 in soup.find_all(class_=\"title\"):\n",
    "    try:\n",
    "        post = {}\n",
    "        post['標題'] = d2.text.replace('\\t', '').replace('\\n', '').replace('\\u3000', '')\n",
    "        \n",
    "        r2 = BeautifulSoup(requests.get('https://www.ptt.cc'+d2.find('a')['href']).text, \"html5lib\")\n",
    "        post['作者'] = r2.find(class_='article-meta-value').text\n",
    "        post['時間'] = r2.find_all(class_='article-meta-value')[-1].text\n",
    "        \n",
    "        posts.append(post)\n",
    "    except:\n",
    "        continue\n",
    "\n",
    "#orted(iterable, cmp=None, key=None, reverse=False)\n",
    "#iterable -- 可迭代对象\n",
    "#key -- 主要是用来进行比较的元素，只有一个参数，具体的函数的参数就是取自于可迭代对象中，指定可迭代对象中的一个元素来进行排序。\n",
    "posts = sorted(posts, key= lambda x: x['時間'])\n",
    "# 補充：List of Dict 的排序方法\n",
    "# https://stackoverflow.com/questions/72899/how-do-i-sort-a-list-of-dictionaries-by-a-value-of-the-dictionary\n",
    "posts[-1]"
   ]
  },
  {
   "cell_type": "code",
   "execution_count": null,
   "metadata": {},
   "outputs": [],
   "source": []
  }
 ],
 "metadata": {
  "kernelspec": {
   "display_name": "Python 3",
   "language": "python",
   "name": "python3"
  },
  "language_info": {
   "codemirror_mode": {
    "name": "ipython",
    "version": 3
   },
   "file_extension": ".py",
   "mimetype": "text/x-python",
   "name": "python",
   "nbconvert_exporter": "python",
   "pygments_lexer": "ipython3",
   "version": "3.7.6"
  }
 },
 "nbformat": 4,
 "nbformat_minor": 4
}
