{
 "cells": [
  {
   "cell_type": "code",
   "execution_count": null,
   "metadata": {},
   "outputs": [],
   "source": [
    "#CSV Reader\n",
    "import csv\n",
    "file = \"Day2example.csv\"\n",
    "with open(file,encoding = \"utf8\") as csvfile:\n",
    "    csvRead = csv.reader(csvfile)\n",
    "    lsDay2 = list(csvRead)"
   ]
  },
  {
   "cell_type": "code",
   "execution_count": null,
   "metadata": {},
   "outputs": [],
   "source": [
    "#取出班次一的每一個時間\n",
    "for row in range(1,len(lsDay2)):\n",
    "   print(lsDay2[row][5])"
   ]
  },
  {
   "cell_type": "code",
   "execution_count": null,
   "metadata": {},
   "outputs": [],
   "source": [
    "#取班次一的每一個時間用一個變數保存\n",
    "ls = {}\n",
    "for row1 in range(1,len(lsDay2)):    \n",
    "    ls[\"bus{:d}\".format(row1)] = lsDay2[row1][5]\n",
    "print(ls)"
   ]
  },
  {
   "cell_type": "code",
   "execution_count": null,
   "metadata": {},
   "outputs": [],
   "source": []
  }
 ],
 "metadata": {
  "kernelspec": {
   "display_name": "Python 3",
   "language": "python",
   "name": "python3"
  },
  "language_info": {
   "codemirror_mode": {
    "name": "ipython",
    "version": 3
   },
   "file_extension": ".py",
   "mimetype": "text/x-python",
   "name": "python",
   "nbconvert_exporter": "python",
   "pygments_lexer": "ipython3",
   "version": "3.7.6"
  }
 },
 "nbformat": 4,
 "nbformat_minor": 4
}
