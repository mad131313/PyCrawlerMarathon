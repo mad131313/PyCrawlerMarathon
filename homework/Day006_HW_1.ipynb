{
 "cells": [
  {
   "cell_type": "code",
   "execution_count": 1,
   "metadata": {},
   "outputs": [
    {
     "name": "stdout",
     "output_type": "stream",
     "text": [
      "知乎問題發問時間 : 2017-02-06 22:10:29\n",
      "第一筆回答的時間: 2019-04-01 10:17:08\n",
      "最後一筆回答的時間: 2019-10-29 11:07:06\n"
     ]
    }
   ],
   "source": [
    "import requests,json\n",
    "from datetime import datetime\n",
    "# 定義標頭檔內容\n",
    "headers = {'user-agent': 'Mozilla/5.0'}\n",
    "r = requests.get('https://www.zhihu.com/api/v4/questions/55493026/answers',headers=headers)\n",
    "response = r.text\n",
    "\n",
    "data = json.loads(response) # 利利⽤用 json 解析網⾴頁內容\n",
    "# 取出資料\n",
    "time = []\n",
    "time_res = []\n",
    "for d in data['data']:\n",
    "    time_res.append(d['created_time'])\n",
    "\n",
    "#知乎問題發問時間\n",
    "time = data['data'][0]['question']['created']  \n",
    "asktime = datetime.fromtimestamp(time)\n",
    "#一筆回答的時間\n",
    "first = time_res[0]\n",
    "first_time = datetime.fromtimestamp(first)\n",
    "#最後一筆回答的時間\n",
    "last = time_res[4]\n",
    "last_time = datetime.fromtimestamp(last)\n",
    "\n",
    "print(\"知乎問題發問時間 :\",asktime)\n",
    "print(\"第一筆回答的時間:\",first_time)\n",
    "print(\"最後一筆回答的時間:\",last_time)"
   ]
  }
 ],
 "metadata": {
  "kernelspec": {
   "display_name": "Python 3",
   "language": "python",
   "name": "python3"
  },
  "language_info": {
   "codemirror_mode": {
    "name": "ipython",
    "version": 3
   },
   "file_extension": ".py",
   "mimetype": "text/x-python",
   "name": "python",
   "nbconvert_exporter": "python",
   "pygments_lexer": "ipython3",
   "version": "3.7.6"
  }
 },
 "nbformat": 4,
 "nbformat_minor": 4
}
